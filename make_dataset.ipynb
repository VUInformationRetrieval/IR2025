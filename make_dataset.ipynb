{
 "cells": [
  {
   "cell_type": "markdown",
   "metadata": {},
   "source": [
    "# Building the dataset of research papers"
   ]
  },
  {
   "cell_type": "markdown",
   "metadata": {},
   "source": [
    "The [Entrez](http://biopython.org/DIST/docs/api/Bio.Entrez-module.html) module, a part of the [Biopython](http://biopython.org/) library, will be used to interface with [PubMed](http://www.ncbi.nlm.nih.gov/pubmed).<br>\n",
    "You can download Biopython from [here](http://biopython.org/wiki/Download).\n",
    "\n",
    "In this notebook we will be covering several of the steps taken in the [Biopython Tutorial](http://biopython.org/DIST/docs/tutorial/Tutorial.html), specifically in [Chapter 9  Accessing NCBI’s Entrez databases](http://biopython.org/DIST/docs/tutorial/Tutorial.html#htoc109)."
   ]
  },
  {
   "cell_type": "code",
   "execution_count": 1,
   "metadata": {
    "tags": []
   },
   "outputs": [
    {
     "name": "stdout",
     "output_type": "stream",
     "text": [
      "Requirement already satisfied: biopython in /home/rss220/.local/lib/python3.8/site-packages (1.81)\n",
      "Requirement already satisfied: numpy in /home/rss220/.local/lib/python3.8/site-packages (from biopython) (1.24.2)\n",
      "Note: you may need to restart the kernel to use updated packages.\n"
     ]
    }
   ],
   "source": [
    "%pip install biopython"
   ]
  },
  {
   "cell_type": "code",
   "execution_count": 2,
   "metadata": {
    "tags": []
   },
   "outputs": [],
   "source": [
    "from Bio import Entrez\n",
    "\n",
    "# NCBI requires you to set your email address to make use of NCBI's E-utilities\n",
    "Entrez.email = \"r.m.siebes@vu.nl\""
   ]
  },
  {
   "cell_type": "markdown",
   "metadata": {},
   "source": [
    "The datasets will be saved as serialized Python objects, compressed with bzip2.\n",
    "Saving/loading them will therefore require the [pickle](http://docs.python.org/3/library/pickle.html) and [bz2](http://docs.python.org/3/library/bz2.html) modules."
   ]
  },
  {
   "cell_type": "code",
   "execution_count": 3,
   "metadata": {
    "tags": []
   },
   "outputs": [],
   "source": [
    "import pickle, bz2, os, zipfile"
   ]
  },
  {
   "cell_type": "markdown",
   "metadata": {},
   "source": [
    "## EInfo: Obtaining information about the Entrez databases"
   ]
  },
  {
   "cell_type": "code",
   "execution_count": 4,
   "metadata": {
    "tags": []
   },
   "outputs": [],
   "source": [
    "# accessing extended information about the PubMed database\n",
    "pubmed = Entrez.read( Entrez.einfo(db=\"pubmed\"), validate=False )[u'DbInfo']\n",
    "\n",
    "# list of possible search fields for use with ESearch:\n",
    "search_fields = { f['Name']:f['Description'] for f in pubmed[\"FieldList\"] }"
   ]
  },
  {
   "cell_type": "markdown",
   "metadata": {},
   "source": [
    "In search_fields, we find 'TIAB' ('Free text associated with Abstract/Title') as a possible search field to use in searches."
   ]
  },
  {
   "cell_type": "code",
   "execution_count": 5,
   "metadata": {
    "tags": []
   },
   "outputs": [
    {
     "data": {
      "text/plain": [
       "{'ALL': 'All terms from all searchable fields',\n",
       " 'UID': 'Unique number assigned to publication',\n",
       " 'FILT': 'Limits the records',\n",
       " 'TITL': 'Words in title of publication',\n",
       " 'MESH': 'Medical Subject Headings assigned to publication',\n",
       " 'MAJR': 'MeSH terms of major importance to publication',\n",
       " 'JOUR': 'Journal abbreviation of publication',\n",
       " 'AFFL': \"Author's institutional affiliation and address\",\n",
       " 'ECNO': 'EC number for enzyme or CAS registry number',\n",
       " 'SUBS': 'CAS chemical name or MEDLINE Substance Name',\n",
       " 'PDAT': 'Date of publication',\n",
       " 'EDAT': 'Date publication first accessible through Entrez',\n",
       " 'VOL': 'Volume number of publication',\n",
       " 'PAGE': 'Page number(s) of publication',\n",
       " 'PTYP': 'Type of publication (e.g., review)',\n",
       " 'LANG': 'Language of publication',\n",
       " 'ISS': 'Issue number of publication',\n",
       " 'SUBH': 'Additional specificity for MeSH term',\n",
       " 'SI': 'Cross-reference from publication to other databases',\n",
       " 'MHDA': 'Date publication was indexed with MeSH terms',\n",
       " 'TIAB': 'Free text associated with Abstract/Title',\n",
       " 'OTRM': 'Other terms associated with publication',\n",
       " 'COLN': 'Corporate Author of publication',\n",
       " 'CNTY': 'Country of publication',\n",
       " 'PAPX': 'MeSH pharmacological action pre-explosions',\n",
       " 'GRNT': 'NIH Grant Numbers',\n",
       " 'MDAT': 'Date of last modification',\n",
       " 'CDAT': 'Date of completion',\n",
       " 'PID': 'Publisher ID',\n",
       " 'FAUT': 'First Author of publication',\n",
       " 'FULL': 'Full Author Name(s) of publication',\n",
       " 'FINV': 'Full name of investigator',\n",
       " 'TT': 'Words in transliterated title of publication',\n",
       " 'LAUT': 'Last Author of publication',\n",
       " 'PPDT': 'Date of print publication',\n",
       " 'EPDT': 'Date of Electronic publication',\n",
       " 'LID': 'ELocation ID',\n",
       " 'CRDT': 'Date publication first accessible through Entrez',\n",
       " 'BOOK': 'ID of the book that contains the document',\n",
       " 'ED': \"Section's Editor\",\n",
       " 'ISBN': 'ISBN',\n",
       " 'PUBN': \"Publisher's name\",\n",
       " 'AUCL': 'Author Cluster ID',\n",
       " 'EID': 'Extended PMID',\n",
       " 'DSO': 'Additional text from the summary',\n",
       " 'AUID': 'Author Identifier',\n",
       " 'PS': 'Personal Name as Subject',\n",
       " 'COIS': 'Conflict of Interest Statements',\n",
       " 'WORD': 'Free text associated with publication',\n",
       " 'P1DAT': 'Date publication first accessible through Solr'}"
      ]
     },
     "execution_count": 5,
     "metadata": {},
     "output_type": "execute_result"
    }
   ],
   "source": [
    "search_fields"
   ]
  },
  {
   "cell_type": "markdown",
   "metadata": {},
   "source": [
    "## ESearch: Searching the Entrez databases"
   ]
  },
  {
   "cell_type": "markdown",
   "metadata": {},
   "source": [
    "To have a look at the kind of data we get when searching the database, we'll perform a search for papers authored by Haasdijk:"
   ]
  },
  {
   "cell_type": "code",
   "execution_count": 6,
   "metadata": {
    "tags": []
   },
   "outputs": [
    {
     "data": {
      "text/plain": [
       "{'Count': '44', 'RetMax': '20', 'RetStart': '0', 'IdList': ['40943785', '40736755', '40701362', '39325889', '38631313', '33501027', '33501026', '33500899', '29311830', '28513205', '28513201', '28323435', '28140628', '26933487', '24977986', '24901702', '24852945', '24708899', '24252306', '23580075'], 'TranslationSet': [{'From': 'Haasdijk E[AUTH]', 'To': 'haasdijk e[Author]'}], 'QueryTranslation': 'haasdijk e[Author]'}"
      ]
     },
     "execution_count": 6,
     "metadata": {},
     "output_type": "execute_result"
    }
   ],
   "source": [
    "example_authors = ['Haasdijk E']\n",
    "example_search = Entrez.read( Entrez.esearch( db=\"pubmed\", term=' AND '.join([a+'[AUTH]' for a in example_authors]) ) )\n",
    "example_search"
   ]
  },
  {
   "cell_type": "markdown",
   "metadata": {},
   "source": [
    "Note how the result being produced is not in Python's native string format:"
   ]
  },
  {
   "cell_type": "code",
   "execution_count": 7,
   "metadata": {
    "tags": []
   },
   "outputs": [
    {
     "data": {
      "text/plain": [
       "Bio.Entrez.Parser.StringElement"
      ]
     },
     "execution_count": 7,
     "metadata": {},
     "output_type": "execute_result"
    }
   ],
   "source": [
    "type( example_search['IdList'][0] )"
   ]
  },
  {
   "cell_type": "markdown",
   "metadata": {},
   "source": [
    "The part of the query's result we are most interested in is accessible through"
   ]
  },
  {
   "cell_type": "code",
   "execution_count": 8,
   "metadata": {
    "tags": []
   },
   "outputs": [
    {
     "name": "stdout",
     "output_type": "stream",
     "text": [
      "[40943785, 40736755, 40701362, 39325889, 38631313, 33501027, 33501026, 33500899, 29311830, 28513205, 28513201, 28323435, 28140628, 26933487, 24977986, 24901702, 24852945, 24708899, 24252306, 23580075]\n"
     ]
    }
   ],
   "source": [
    "example_ids = [ int(id) for id in example_search['IdList'] ]\n",
    "print(example_ids)"
   ]
  },
  {
   "cell_type": "markdown",
   "metadata": {},
   "source": [
    "### PubMed IDs dataset"
   ]
  },
  {
   "cell_type": "markdown",
   "metadata": {},
   "source": [
    "We will now assemble a dataset comprised of research articles containing the given keyword, in either their titles or abstracts."
   ]
  },
  {
   "cell_type": "code",
   "execution_count": 9,
   "metadata": {
    "tags": []
   },
   "outputs": [],
   "source": [
    "#  Due to the new limit (only 10K max results) the Entrez library is not suitable to fetch all ids for a query\n",
    "#  - Therefore this has to be done via the more complicated way using the Entrez Direct e-utility:\n",
    "#     https://www.ncbi.nlm.nih.gov/sites/books/NBK179288/ \n",
    "#  - also an API key has to be registered at NCBI\n",
    "#  - the command used for fetching the ids: \n",
    "#               esearch -db pubmed -query \"recognition\" | efetch -format uid >results.txt\n",
    "#  - thus, instead of using the output from the script below (recognition_ids.pkl.bz2) we use\n",
    "search_term = 'pandemic'"
   ]
  },
  {
   "cell_type": "code",
   "execution_count": 10,
   "metadata": {
    "tags": []
   },
   "outputs": [],
   "source": [
    "Ids_zip = 'data/' + search_term + '_Ids.zip'\n",
    "Ids_file = search_term + '_Ids.txt'\n",
    "\n",
    "if os.path.exists( Ids_zip ):\n",
    "    with zipfile.ZipFile(Ids_zip, 'r') as myzip:\n",
    "        \n",
    "        with myzip.open(Ids_file) as myfile:\n",
    "           Ids_str = myfile.read().decode('UTF-8').splitlines(keepends=True)\n",
    "\n",
    "        # convert Ids to integers (and ensure that the conversion is reversible)\n",
    "        Ids = [ int(id) for id in Ids_str ]\n",
    "else:\n",
    "     raise Exception('File not found' )\n",
    "\n"
   ]
  },
  {
   "cell_type": "code",
   "execution_count": 11,
   "metadata": {
    "tags": []
   },
   "outputs": [
    {
     "name": "stdout",
     "output_type": "stream",
     "text": [
      "76241 documents contain the search term \"pandemic\".\n"
     ]
    }
   ],
   "source": [
    "ids_to_remove = [\n",
    "    40982904\n",
    "]\n",
    "for id_to_remove in ids_to_remove:\n",
    "    try:\n",
    "        Ids.remove(id_to_remove)\n",
    "    except ValueError:\n",
    "        print(f\"ID {id_to_remove} not found in the list.\")\n",
    "\n",
    "    \n",
    "    # Save list of Ids\n",
    "    pickle.dump( Ids, bz2.BZ2File( Ids_file, 'wb' ) )\n",
    "    \n",
    "total = len( Ids )\n",
    "print('%d documents contain the search term \"%s\".' % ( total, search_term ) )"
   ]
  },
  {
   "cell_type": "markdown",
   "metadata": {},
   "source": [
    "Taking a look at what we just retrieved, here are the last 5 elements of the `Ids` list:"
   ]
  },
  {
   "cell_type": "code",
   "execution_count": 12,
   "metadata": {
    "tags": []
   },
   "outputs": [
    {
     "data": {
      "text/plain": [
       "[59080, 128105, 184568, 280169, 293742]"
      ]
     },
     "execution_count": 12,
     "metadata": {},
     "output_type": "execute_result"
    }
   ],
   "source": [
    "\n",
    "\n",
    "\n",
    "Ids[:5]"
   ]
  },
  {
   "cell_type": "markdown",
   "metadata": {},
   "source": [
    "## ESummary: Retrieving summaries from primary IDs"
   ]
  },
  {
   "cell_type": "markdown",
   "metadata": {},
   "source": [
    "To have a look at the kind of metadata we get from a call to `Entrez.esummary()`, we now fetch the summary of one of Haasdijk's papers (using one of the PubMed IDs we obtained in the previous section:"
   ]
  },
  {
   "cell_type": "code",
   "execution_count": 13,
   "metadata": {
    "tags": []
   },
   "outputs": [
    {
     "name": "stdout",
     "output_type": "stream",
     "text": [
      "Item\n",
      "\t []\n",
      "Id\n",
      "\t 293742\n",
      "PubDate\n",
      "\t 1979 Dec\n",
      "EPubDate\n",
      "\t \n",
      "Source\n",
      "\t Proc Natl Acad Sci U S A\n",
      "AuthorList\n",
      "\t ['Young JF', 'Palese P']\n",
      "LastAuthor\n",
      "\t Palese P\n",
      "Title\n",
      "\t Evolution of human influenza A viruses in nature: recombination contributes to genetic variation of H1N1 strains.\n",
      "Volume\n",
      "\t 76\n",
      "Issue\n",
      "\t 12\n",
      "Pages\n",
      "\t 6547-51\n",
      "LangList\n",
      "\t ['English']\n",
      "NlmUniqueID\n",
      "\t 7505876\n",
      "ISSN\n",
      "\t 0027-8424\n",
      "ESSN\n",
      "\t 1091-6490\n",
      "PubTypeList\n",
      "\t ['Journal Article']\n",
      "RecordStatus\n",
      "\t PubMed - indexed for MEDLINE\n",
      "PubStatus\n",
      "\t ppublish\n",
      "ArticleIds\n",
      "\t {'pubmed': ['293742'], 'medline': [], 'pmc': 'PMC411903', 'pmcid': 'pmc-id: PMC411903;', 'doi': '10.1073/pnas.76.12.6547'}\n",
      "DOI\n",
      "\t 10.1073/pnas.76.12.6547\n",
      "History\n",
      "\t {'pubmed': ['1979/12/01 00:00'], 'medline': ['1979/12/01 00:01'], 'entrez': '1979/12/01 00:00', 'pmc-release': '1980/06/01 00:00'}\n",
      "References\n",
      "\t []\n",
      "HasAbstract\n",
      "\t IntegerElement(1, attributes={})\n",
      "PmcRefCount\n",
      "\t IntegerElement(20, attributes={})\n",
      "FullJournalName\n",
      "\t Proceedings of the National Academy of Sciences of the United States of America\n",
      "ELocationID\n",
      "\t \n",
      "SO\n",
      "\t 1979 Dec;76(12):6547-51\n"
     ]
    }
   ],
   "source": [
    "example_paper = Entrez.read( Entrez.esummary(db=\"pubmed\", id='293742') )[0]\n",
    "\n",
    "def print_dict( p ):\n",
    "    for k,v in p.items():\n",
    "        print(k)\n",
    "        print('\\t', v)\n",
    "\n",
    "print_dict(example_paper)"
   ]
  },
  {
   "cell_type": "markdown",
   "metadata": {},
   "source": [
    "For now, we'll keep just some basic information for each paper: title, list of authors, publication year, and [DOI](https://en.wikipedia.org/wiki/Digital_object_identifier).\n",
    "\n",
    "In case you are not familiar with the DOI system, know that the paper above can be accessed through the link  `https://www.doi.org/` followed by the paper's DOI."
   ]
  },
  {
   "cell_type": "code",
   "execution_count": 14,
   "metadata": {
    "tags": []
   },
   "outputs": [
    {
     "data": {
      "text/plain": [
       "('Evolution of human influenza A viruses in nature: recombination contributes to genetic variation of H1N1 strains.',\n",
       " ['Young JF', 'Palese P'],\n",
       " 1979,\n",
       " '10.1073/pnas.76.12.6547')"
      ]
     },
     "execution_count": 14,
     "metadata": {},
     "output_type": "execute_result"
    }
   ],
   "source": [
    "( example_paper['Title'], example_paper['AuthorList'], int(example_paper['PubDate'][:4]), example_paper['DOI'] )"
   ]
  },
  {
   "cell_type": "markdown",
   "metadata": {
    "tags": []
   },
   "source": [
    "### Summaries dataset"
   ]
  },
  {
   "cell_type": "markdown",
   "metadata": {},
   "source": [
    "We are now ready to assemble a dataset containing the summaries of all the paper `Ids` we previously fetched.\n",
    "\n",
    "To reduce the memory footprint, and to ensure the saved datasets won't depend on Biopython being installed to be properly loaded, values returned by `Entrez.read()` will be converted to their corresponding native Python types. We start by defining a function for helping with the conversion of strings:"
   ]
  },
  {
   "cell_type": "code",
   "execution_count": 15,
   "metadata": {
    "tags": []
   },
   "outputs": [],
   "source": [
    "Summaries_file = 'data/' + search_term + '_Summaries.pkl.bz2'\n"
   ]
  },
  {
   "cell_type": "code",
   "execution_count": 16,
   "metadata": {
    "tags": []
   },
   "outputs": [],
   "source": [
    "if os.path.exists( Summaries_file ):\n",
    "    Summaries = pickle.load( bz2.BZ2File( Summaries_file, 'rb' ) )\n",
    "    \n",
    "else:\n",
    "    # `Summaries` will be incrementally assembled, by performing multiple queries,\n",
    "    # each returning at most `retrieve_per_query` entries.\n",
    "    Summaries = []\n",
    "    retrieve_per_query = 500\n",
    "    \n",
    "    print('Fetching Summaries of results: ')\n",
    "    for start in range( 0, len(Ids), retrieve_per_query ):\n",
    "        if (start % 10000 == 0):\n",
    "            print('')\n",
    "            print(start, end='')\n",
    "            SummariesDict = dict( Summaries )\n",
    "            print('length=', len(SummariesDict))\n",
    "        else:\n",
    "            print('.', end='')\n",
    "        \n",
    "        # build comma separated string with the ids at indexes [start, start+retrieve_per_query)\n",
    "        query_ids = ','.join( [ str(id) for id in Ids[ start : start+retrieve_per_query ] ] )\n",
    "       # print(query_ids)\n",
    "        \n",
    "        s = Entrez.read( Entrez.esummary( db=\"pubmed\", id=query_ids ) )\n",
    "        \n",
    "        # out of the retrieved data, we will keep only a tuple (title, authors, year, DOI), associated with the paper's id.\n",
    "        # (all values converted to native Python formats)\n",
    "        for p in s:\n",
    "            \n",
    "            try:\n",
    "                f = [\n",
    "                    ( int( p['Id'] ), (\n",
    "                        str( p['Title'] ),\n",
    "                        [ str(a) for a in p['AuthorList'] ],\n",
    "                        int( p['PubDate'][:4] ),                # keeps just the publication year\n",
    "                        str( p.get('DOI', '') )            # papers for which no DOI is available get an empty string in their place\n",
    "                        ) )\n",
    "                    ]\n",
    "                #print(int( p['Id'] ))\n",
    "                Summaries.extend( f )\n",
    "            except ValueError as e:\n",
    "                print(\"\\nError with ID \" + p['Id'] + \": \" + str(e))\n",
    "                print(\"Manually remove this ID above and re-run code.\")\n",
    "    \n",
    "    # Save Summaries, as a dictionary indexed by Ids\n",
    "    Summaries = dict( Summaries )\n",
    "    \n",
    "    pickle.dump( Summaries, bz2.BZ2File( Summaries_file, 'wb' ) )\n"
   ]
  },
  {
   "cell_type": "markdown",
   "metadata": {},
   "source": [
    "Let us take a look at the first 3 retrieved summaries:"
   ]
  },
  {
   "cell_type": "code",
   "execution_count": null,
   "metadata": {
    "tags": []
   },
   "outputs": [],
   "source": []
  },
  {
   "cell_type": "code",
   "execution_count": 17,
   "metadata": {
    "tags": []
   },
   "outputs": [
    {
     "name": "stdout",
     "output_type": "stream",
     "text": [
      "76241\n",
      "76241\n"
     ]
    },
    {
     "data": {
      "text/plain": [
       "{128105: ('[Supplementary data on the theory concerning the cyclic evolution of influenza viruses].',\n",
       "  ['Niculescu IT',\n",
       "   'Zilişteanu E',\n",
       "   'Creţescu L',\n",
       "   'Maţepiuc M',\n",
       "   'Crainic R',\n",
       "   'Oprescu E'],\n",
       "  1975,\n",
       "  ''),\n",
       " 184568: ('Acute haemorrhagic conjunctivitis and enterovirus 70 in Kenya.',\n",
       "  ['Metselaar D', 'Awan AM', 'Ensering HL'],\n",
       "  1976,\n",
       "  '')}"
      ]
     },
     "execution_count": 17,
     "metadata": {},
     "output_type": "execute_result"
    }
   ],
   "source": [
    "print(len(Ids))\n",
    "\n",
    "#print(Summaries[Ids[200001]])\n",
    "print(len(Summaries))\n",
    "{ id : Summaries[id] for id in Ids[1:3] }"
   ]
  },
  {
   "cell_type": "markdown",
   "metadata": {},
   "source": [
    "## EFetch: Downloading full records from Entrez"
   ]
  },
  {
   "cell_type": "markdown",
   "metadata": {},
   "source": [
    "`Entrez.efetch()` is the function that will allow us to obtain paper abstracts. Let us start by taking a look at the kind of data it returns when we query PubMed's database."
   ]
  },
  {
   "cell_type": "code",
   "execution_count": 18,
   "metadata": {
    "tags": []
   },
   "outputs": [],
   "source": [
    "q = Entrez.read( Entrez.efetch(db=\"pubmed\", id='349', retmode=\"xml\") )['PubmedArticle']"
   ]
  },
  {
   "cell_type": "markdown",
   "metadata": {},
   "source": [
    "`q` is a list, with each member corresponding to a queried id. Because here we only queried for one id, its results are then in `q[0]`."
   ]
  },
  {
   "cell_type": "code",
   "execution_count": 19,
   "metadata": {
    "tags": []
   },
   "outputs": [
    {
     "data": {
      "text/plain": [
       "(list, 1)"
      ]
     },
     "execution_count": 19,
     "metadata": {},
     "output_type": "execute_result"
    }
   ],
   "source": [
    "type(q), len(q)"
   ]
  },
  {
   "cell_type": "markdown",
   "metadata": {},
   "source": [
    "1\n",
    "At `q[0]` we find a dictionary containing two keys, the contents of which we print below."
   ]
  },
  {
   "cell_type": "code",
   "execution_count": 20,
   "metadata": {
    "tags": []
   },
   "outputs": [
    {
     "data": {
      "text/plain": [
       "(Bio.Entrez.Parser.DictionaryElement,\n",
       " dict_keys(['MedlineCitation', 'PubmedData']))"
      ]
     },
     "execution_count": 20,
     "metadata": {},
     "output_type": "execute_result"
    }
   ],
   "source": [
    "type(q[0]), q[0].keys()"
   ]
  },
  {
   "cell_type": "code",
   "execution_count": 21,
   "metadata": {
    "tags": []
   },
   "outputs": [
    {
     "name": "stdout",
     "output_type": "stream",
     "text": [
      "ReferenceList\n",
      "\t []\n",
      "History\n",
      "\t [DictElement({'Year': '1975', 'Month': '11', 'Day': '1'}, attributes={'PubStatus': 'pubmed'}), DictElement({'Year': '1975', 'Month': '11', 'Day': '1', 'Hour': '0', 'Minute': '1'}, attributes={'PubStatus': 'medline'}), DictElement({'Year': '1975', 'Month': '11', 'Day': '1', 'Hour': '0', 'Minute': '0'}, attributes={'PubStatus': 'entrez'})]\n",
      "PublicationStatus\n",
      "\t ppublish\n",
      "ArticleIdList\n",
      "\t [StringElement('349', attributes={'IdType': 'pubmed'})]\n"
     ]
    }
   ],
   "source": [
    "print_dict( q[0][ 'PubmedData' ] )"
   ]
  },
  {
   "cell_type": "markdown",
   "metadata": {},
   "source": [
    "The key `'MedlineCitation'` maps into another dictionary. In that dictionary, most of the information is contained under the key `'Article'`. To minimize the clutter, below we show the contents of `'MedlineCitation'` excluding its `'Article'` member, and below that we then show the contents of `'Article'`."
   ]
  },
  {
   "cell_type": "code",
   "execution_count": 22,
   "metadata": {
    "tags": []
   },
   "outputs": [
    {
     "name": "stdout",
     "output_type": "stream",
     "text": [
      "KeywordList\n",
      "\t []\n",
      "CitationSubset\n",
      "\t ['IM']\n",
      "InvestigatorList\n",
      "\t []\n",
      "OtherID\n",
      "\t []\n",
      "GeneralNote\n",
      "\t []\n",
      "SpaceFlightMission\n",
      "\t []\n",
      "OtherAbstract\n",
      "\t []\n",
      "PMID\n",
      "\t 349\n",
      "DateCompleted\n",
      "\t {'Year': '1976', 'Month': '02', 'Day': '13'}\n",
      "DateRevised\n",
      "\t {'Year': '2010', 'Month': '11', 'Day': '18'}\n",
      "MedlineJournalInfo\n",
      "\t {'Country': 'United States', 'MedlineTA': 'Heart Lung', 'NlmUniqueID': '0330057', 'ISSNLinking': '0147-9563'}\n",
      "MeshHeadingList\n",
      "\t [{'QualifierName': [StringElement('etiology', attributes={'UI': 'Q000209', 'MajorTopicYN': 'N'}), StringElement('metabolism', attributes={'UI': 'Q000378', 'MajorTopicYN': 'N'}), StringElement('therapy', attributes={'UI': 'Q000628', 'MajorTopicYN': 'N'})], 'DescriptorName': StringElement('Acute Kidney Injury', attributes={'UI': 'D058186', 'MajorTopicYN': 'Y'})}, {'QualifierName': [], 'DescriptorName': StringElement('Adolescent', attributes={'UI': 'D000293', 'MajorTopicYN': 'N'})}, {'QualifierName': [], 'DescriptorName': StringElement('Adult', attributes={'UI': 'D000328', 'MajorTopicYN': 'N'})}, {'QualifierName': [], 'DescriptorName': StringElement('Aged', attributes={'UI': 'D000368', 'MajorTopicYN': 'N'})}, {'QualifierName': [], 'DescriptorName': StringElement('Child', attributes={'UI': 'D002648', 'MajorTopicYN': 'N'})}, {'QualifierName': [], 'DescriptorName': StringElement('Humans', attributes={'UI': 'D006801', 'MajorTopicYN': 'N'})}, {'QualifierName': [], 'DescriptorName': StringElement('Hydrogen-Ion Concentration', attributes={'UI': 'D006863', 'MajorTopicYN': 'N'})}, {'QualifierName': [StringElement('physiopathology', attributes={'UI': 'Q000503', 'MajorTopicYN': 'N'})], 'DescriptorName': StringElement('Kidney', attributes={'UI': 'D007668', 'MajorTopicYN': 'N'})}, {'QualifierName': [], 'DescriptorName': StringElement('Middle Aged', attributes={'UI': 'D008875', 'MajorTopicYN': 'N'})}]\n"
     ]
    }
   ],
   "source": [
    "print_dict( { k:v for k,v in q[0][ 'MedlineCitation' ].items() if k!='Article' } )"
   ]
  },
  {
   "cell_type": "code",
   "execution_count": 23,
   "metadata": {
    "tags": []
   },
   "outputs": [
    {
     "name": "stdout",
     "output_type": "stream",
     "text": [
      "ELocationID\n",
      "\t []\n",
      "Language\n",
      "\t ['eng']\n",
      "ArticleDate\n",
      "\t []\n",
      "Journal\n",
      "\t {'ISSN': StringElement('0147-9563', attributes={'IssnType': 'Print'}), 'JournalIssue': DictElement({'Volume': '4', 'Issue': '6', 'PubDate': {'Year': '1975', 'Season': 'Nov-Dec'}}, attributes={'CitedMedium': 'Print'}), 'Title': 'Heart & lung : the journal of critical care', 'ISOAbbreviation': 'Heart Lung'}\n",
      "ArticleTitle\n",
      "\t Acute renal failure.\n",
      "Pagination\n",
      "\t {'StartPage': '873', 'EndPage': '878', 'MedlinePgn': '873-8'}\n",
      "Abstract\n",
      "\t {'AbstractText': ['Acute renal failure is a life-threatening situation for which satisfactory treatment is currently available. Death is usually related to concomitant infection rather than uremia. Prompt recognition and treatment of underlying factors that predispose to renal insufficiency can frequently prevent the development of intrinsic acute renal failure.']}\n",
      "AuthorList\n",
      "\t ListElement([DictElement({'Identifier': [], 'AffiliationInfo': [], 'LastName': 'Freedman', 'ForeName': 'P', 'Initials': 'P'}, attributes={'ValidYN': 'Y'}), DictElement({'Identifier': [], 'AffiliationInfo': [], 'LastName': 'Smith', 'ForeName': 'E C', 'Initials': 'EC'}, attributes={'ValidYN': 'Y'})], attributes={'CompleteYN': 'Y'})\n",
      "PublicationTypeList\n",
      "\t [StringElement('Journal Article', attributes={'UI': 'D016428'})]\n"
     ]
    }
   ],
   "source": [
    "print_dict( q[0][ 'MedlineCitation' ][ 'Article' ] )"
   ]
  },
  {
   "cell_type": "markdown",
   "metadata": {},
   "source": [
    "A paper's abstract can therefore be accessed with:"
   ]
  },
  {
   "cell_type": "code",
   "execution_count": 24,
   "metadata": {
    "tags": []
   },
   "outputs": [
    {
     "data": {
      "text/plain": [
       "{349: 'Acute renal failure is a life-threatening situation for which satisfactory treatment is currently available. Death is usually related to concomitant infection rather than uremia. Prompt recognition and treatment of underlying factors that predispose to renal insufficiency can frequently prevent the development of intrinsic acute renal failure.'}"
      ]
     },
     "execution_count": 24,
     "metadata": {},
     "output_type": "execute_result"
    }
   ],
   "source": [
    "{ int(q[0]['MedlineCitation']['PMID']) : str(q[0]['MedlineCitation']['Article']['Abstract']['AbstractText'][0]) }"
   ]
  },
  {
   "cell_type": "markdown",
   "metadata": {},
   "source": [
    "Some of the ids in our dataset refer to books from the [NCBI Bookshelf](http://www.ncbi.nlm.nih.gov/books/), a collection of freely available, downloadable, on-line versions of selected biomedical books. For such ids, `Entrez.efetch()` returns a slightly different structure, where the keys `[u'BookDocument', u'PubmedBookData']` take the place of the `[u'MedlineCitation', u'PubmedData']` keys we saw above."
   ]
  },
  {
   "cell_type": "markdown",
   "metadata": {},
   "source": [
    "### Abstracts dataset"
   ]
  },
  {
   "cell_type": "markdown",
   "metadata": {},
   "source": [
    "We can now assemble a dataset mapping paper ids to their abstracts."
   ]
  },
  {
   "cell_type": "code",
   "execution_count": 25,
   "metadata": {
    "tags": []
   },
   "outputs": [],
   "source": [
    "Abstracts_file = 'data/' + search_term + '_Abstracts.pkl.bz2'"
   ]
  },
  {
   "cell_type": "code",
   "execution_count": 26,
   "metadata": {
    "scrolled": true,
    "tags": []
   },
   "outputs": [],
   "source": [
    "import http.client\n",
    "from collections import deque\n",
    "from xml.dom import minidom\n",
    "import re\n",
    "\n",
    "def ch(node, childtype):\n",
    "    return node.getElementsByTagName(childtype)[0]\n",
    "\n",
    "if os.path.exists( Abstracts_file ):\n",
    "    Abstracts = pickle.load( bz2.BZ2File( Abstracts_file, 'rb' ) )\n",
    "else:\n",
    "    # `Abstracts` will be incrementally assembled, by performing multiple queries,\n",
    "    # each returning at most `retrieve_per_query` entries.\n",
    "    Abstracts = deque()\n",
    "    retrieve_per_query = 500\n",
    "    \n",
    "    print('Fetching Abstracts of results: ')\n",
    "    for start in range( 0, len(Ids), retrieve_per_query ):\n",
    "        if (start % 10000 == 0):\n",
    "            print('')\n",
    "            print(start, end='')\n",
    "        else:\n",
    "            print('.', end='')\n",
    "        \n",
    "        # build comma separated string with the ids at indexes [start, start+retrieve_per_query)\n",
    "        query_ids = ','.join( [ str(id) for id in Ids[ start : start+retrieve_per_query ] ] )\n",
    "        \n",
    "        # issue requests to the server, until we get the full amount of data we expect\n",
    "        while True:\n",
    "            try:\n",
    "                #s = Entrez.read( Entrez.efetch(db=\"pubmed\", id=query_ids, retmode=\"xml\" ) )['PubmedArticle']\n",
    "                s = minidom.parse( Entrez.efetch(db=\"pubmed\", id=query_ids, retmode=\"xml\" ) ).getElementsByTagName(\"PubmedArticle\")\n",
    "            except http.client.IncompleteRead:\n",
    "                print('r', end='')\n",
    "                continue\n",
    "            break\n",
    "        \n",
    "        i = 0\n",
    "        for p in s:\n",
    "            abstr = ''\n",
    "            if (p.getElementsByTagName('MedlineCitation')):\n",
    "                citNode = ch(p,'MedlineCitation')\n",
    "                pmid = ch(citNode,'PMID').firstChild.data\n",
    "                articleNode = ch(citNode,'Article')\n",
    "                if (articleNode.getElementsByTagName('Abstract')):\n",
    "                    try:\n",
    "                        abstr = ch(ch(articleNode,'Abstract'),'AbstractText').firstChild.data\n",
    "                    except AttributeError:\n",
    "                        abstr = ch(ch(articleNode,'Abstract'),'AbstractText').toprettyxml(\"  \")\n",
    "                        abstr = re.sub(r\"\\s+\", \" \", re.sub(\"<[^>]*>\", \"\", abstr))\n",
    "            elif (p.getElementsByTagName('BookDocument')):\n",
    "                bookNode = ch(p,'BookDocument')\n",
    "                pmid = ch(bookNode,'PMID').firstChild.data\n",
    "                if (bookNode.getElementsByTagName('Abstract')):\n",
    "                    try:\n",
    "                        abstr = ch(ch(bookNode,'Abstract'),'AbstractText').firstChild.data\n",
    "                    except AttributeError:\n",
    "                        abstr = ch(ch(bookNode,'Abstract'),'AbstractText').toprettyxml(\"  \")\n",
    "                        abstr = re.sub(r\"\\s+\", \" \", re.sub(\"<[^>]*>\", \"\", abstr))\n",
    "            else:\n",
    "                raise Exception('Unrecognized record type, for id %d (keys: %s)' % (Ids[start+i], str(p.keys())) )\n",
    "            \n",
    "            Abstracts.append( (int(pmid), str(abstr)) )\n",
    "            i += 1\n",
    "    \n",
    "    # Save Abstracts, as a dictionary indexed by Ids\n",
    "    Abstracts = dict( Abstracts )\n",
    "    \n",
    "    pickle.dump( Abstracts, bz2.BZ2File( Abstracts_file, 'wb' ) )"
   ]
  },
  {
   "cell_type": "markdown",
   "metadata": {},
   "source": [
    "Taking a look at one paper's abstract:"
   ]
  },
  {
   "cell_type": "code",
   "execution_count": 47,
   "metadata": {
    "tags": []
   },
   "outputs": [
    {
     "name": "stdout",
     "output_type": "stream",
     "text": [
      "To explore the relationship between neuraminidase immunity and the degree of attenuatíon of live influenza A virus vaccines, a comparative evaluation of three Victoria/75-ts-1[E] (Vic/75-ts-1[E]) recombinant viruses in serum hemagglutination-inhibiting-negative (titer, </=1:8) adult volunteers was performed. These three ts-1[E] viruses had a similar restriction of replication at 38 degrees C in vitro, and each possessed the two attenuating genes of the ts-1[E] donor strain (13). However, Vic/75-ts-1[E] recombinants 81 and 113 possessed both Vic/75 hemagglutinin (H3(75)) and Vic/75 neuraminidase (N2(75)), whereas Vic/75-ts-1[E] recombinant 67 had Vic/75 hemagglutinin but the N2(65) neuraminidase. Vic/75-ts-1[E] recombinant 67 was significantly more attenuated than Vic/75-ts-1[E] recombinants 81 and 113 in that fewer local and systemic signs and symptoms of illness were observed in those volunteers who received clone 67. These findings were consistent with our previous observations which suggested that the following two factors contribute to the attenuation of ts-1[E] vaccine strains in adults: (i) the attenuating effect of the two ts-1[E] genes and (ii) the neuraminidase immunity of the host. Vic/75-ts-1[E] recombinant clone 67 vaccinees developed an immunological response to the H3(75) hemagglutinin in the absence of a response to the N2(75) neuraminidase. To assess the role that anti-hemagglutinin immunity induced by an attenuated live virus vaccine plays in resistance to influenza A virus, vaccinees who received recombinant 67 were challenged with Vic/75 wild-type virus, and their responses were compared with those of Vic/75-ts-1[E] vaccinees who received recombinant 81 or 113. Each of the three groups of ts-1[E] vaccinees was significantly protected against illness induced by wild-type virus infection, although resistance was not complete. However, the clone 67 vaccinees were protected less against infection. The infection-permissive resistance induced by clone 67 resembled that previously described for inactivated neuraminidase-specific vaccines. These results suggested that a ts-1[E] recombinant that possessed the hemagglutinin of a new pandemic variant, the neuraminidase of the preceding subtype, and the two ts-1[E] ts genes would be satisfactorily attenuated for children and adults with neuraminidase immunity and could induce resistance to illness caused by the new pandemic wild-type influenza A virus.\n",
      "76118\n",
      "11363961\n"
     ]
    }
   ],
   "source": [
    "print(Abstracts[500204])\n",
    "print(len(Abstracts))\n",
    "print(Ids[349])\n",
    "dict_items_list = list(Abstracts.items())\n",
    "#print('------',dict_items_list[9990:101002])"
   ]
  },
  {
   "cell_type": "markdown",
   "metadata": {},
   "source": [
    "## ELink: Searching for related items in NCBI Entrez"
   ]
  },
  {
   "cell_type": "markdown",
   "metadata": {},
   "source": [
    "To understand how to obtain paper citations with Entrez, we will first assemble a small set of PubMed IDs, and then query for their citations.\n",
    "To that end, we search here for papers published in the Nature journal with our given keyword."
   ]
  },
  {
   "cell_type": "code",
   "execution_count": 28,
   "metadata": {
    "tags": []
   },
   "outputs": [
    {
     "data": {
      "text/plain": [
       "['41094140', '41050434', '41034577', '40696127', '40696125', '40681884', '40634609', '40595421', '40461670', '40437087', '40437082', '40335714', '40301615', '40240830', '40134451', '40132641', '40033147', '39984686', '39966582', '39880955']"
      ]
     },
     "execution_count": 28,
     "metadata": {},
     "output_type": "execute_result"
    }
   ],
   "source": [
    "CA_search_term = search_term+'[TIAB] AND Nature[JOUR]'\n",
    "CA_ids = Entrez.read( Entrez.esearch( db=\"pubmed\", term=CA_search_term ) )['IdList']\n",
    "CA_ids"
   ]
  },
  {
   "cell_type": "code",
   "execution_count": 29,
   "metadata": {
    "tags": []
   },
   "outputs": [
    {
     "data": {
      "text/plain": [
       "{'41094140': ('A vaccine central in A(H5) influenza antigenic space confers broad immunity.',\n",
       "  ['Kok A', 'Wilks SH', 'Tureli S', 'James SL', 'Bestebroer TM', 'Burke DF', 'Funk M', 'van der Vliet S', 'Spronken MI', 'Rijnink WF', 'Pattinson DJ', 'de Meulder D', 'Rosu ME', 'Lexmond P', 'van den Brand JMA', 'Herfst S', 'Smith DJ', 'Fouchier RAM', 'Richard M'],\n",
       "  '2025',\n",
       "  'Nature',\n",
       "  '10.1038/s41586-025-09626-3'),\n",
       " '41050434': ('Effects of exposure to pandemic-related stressors on anxiety and mood difficulty during versus before the COVID-19 pandemic in United States Army soldiers and veterans.',\n",
       "  ['Kessler RC', 'Millikan-Bell AM', 'Edwards ER', 'Gildea SM', 'King AJ', 'Liu H', 'Petukhova MV', 'Sampson NA', 'Ziobrowski HN', 'Wagner JR', 'Stein MB', 'Ursano RJ'],\n",
       "  '2025',\n",
       "  'Nature. Mental health',\n",
       "  '10.1038/s44220-025-00505-4'),\n",
       " '41034577': ('Monoclonal antibodies protect against pandrug-resistant Klebsiella pneumoniae.',\n",
       "  ['Roscioli E', 'Zucconi Galli Fonseca V', 'Bosch SS', 'Paciello I', 'Maccari G', 'Cardinali G', 'Batani G', 'Stazzoni S', 'Tiseo G', 'Giordano C', 'Yuwei S', 'Capoccia L', 'Cardamone D', 'Ridelfi M', 'Troisi M', 'Manganaro N', 'Mugnaini C', 'De Santi C', 'Ciabattini A', 'Cerofolini L', 'Fragai M', 'Licastro D', 'Wyres K', 'Dortet L', 'Barnini S', 'Nicolau DP', 'Menichetti F', 'Falcone M', 'Abdelraouf K', 'Sala C', 'Kabanova A', 'Rappuoli R'],\n",
       "  '2025',\n",
       "  'Nature',\n",
       "  '10.1038/s41586-025-09391-3'),\n",
       " '40696127': ('The COVID-19 pandemic transformed this scientist into a research-integrity sleuth.',\n",
       "  ['Ro C'],\n",
       "  '2025',\n",
       "  'Nature',\n",
       "  '10.1038/d41586-025-01920-4'),\n",
       " '40696125': (\"People's brains aged faster during the COVID pandemic - even the uninfected.\",\n",
       "  ['Conroy G'],\n",
       "  '2025',\n",
       "  'Nature',\n",
       "  '10.1038/d41586-025-02313-3'),\n",
       " '40681884': ('Daily briefing: Inside the wild-animal markets that could start the next pandemic.',\n",
       "  ['Graham F'],\n",
       "  '2025',\n",
       "  'Nature',\n",
       "  '10.1038/d41586-025-01795-5'),\n",
       " '40634609': ('Loss of FCoV-23 spike domain 0 enhances fusogenicity and entry kinetics.',\n",
       "  ['Tortorici MA', 'Choi A', 'Gibson CA', 'Lee J', 'Brown JT', 'Stewart C', 'Joshi A', 'Harari S', 'Willoughby I', 'Treichel C', 'Leaf EM', 'Bloom JD', 'King NP', 'Tait-Burkard C', 'Whittaker GR', 'Veesler D'],\n",
       "  '2025',\n",
       "  'Nature',\n",
       "  '10.1038/s41586-025-09155-z'),\n",
       " '40595421': ('Global pandemic agreement needs sustained pressure to succeed.',\n",
       "  ['Jon W'],\n",
       "  '2025',\n",
       "  'Nature',\n",
       "  '10.1038/d41586-025-02078-9'),\n",
       " '40461670': ('Exclusive: Inside the thriving wild-animal markets that could start the next pandemic.',\n",
       "  ['Qiu J'],\n",
       "  '2025',\n",
       "  'Nature',\n",
       "  '10.1038/d41586-025-01690-z'),\n",
       " '40437087': ('The pivot penalty in research.',\n",
       "  ['Hill R', 'Yin Y', 'Stein C', 'Wang X', 'Wang D', 'Jones BF'],\n",
       "  '2025',\n",
       "  'Nature',\n",
       "  '10.1038/s41586-025-09048-1'),\n",
       " '40437082': ('Air pollution modulates trends and variability of the global methane budget.',\n",
       "  ['Zhao Y', 'Zheng B', 'Saunois M', 'Ciais P', 'Hegglin MI', 'Lu S', 'Li Y', 'Bousquet P'],\n",
       "  '2025',\n",
       "  'Nature',\n",
       "  '10.1038/s41586-025-09004-z'),\n",
       " '40335714': ('Nasal vaccines for respiratory infections.',\n",
       "  ['Kiyono H', 'Ernst PB'],\n",
       "  '2025',\n",
       "  'Nature',\n",
       "  '10.1038/s41586-025-08910-6'),\n",
       " '40301615': ('Historic pandemic treaty is a triumph in a world being torn apart.',\n",
       "  [],\n",
       "  '2025',\n",
       "  'Nature',\n",
       "  '10.1038/d41586-025-01307-5'),\n",
       " '40240830': ('First global pandemic treaty agreed - without the US.',\n",
       "  ['Biever C'],\n",
       "  '2025',\n",
       "  'Nature',\n",
       "  '10.1038/d41586-025-00839-0'),\n",
       " '40134451': ('Dynamic effects of psychiatric vulnerability, loneliness and isolation on distress during the first year of the COVID-19 pandemic.',\n",
       "  ['Atlas LY', 'Farmer C', 'Shaw JS', 'Gibbons A', 'Guinee EP', 'Lossio-Ventura JA', 'Ballard ED', 'Ernst M', 'Japee S', 'Pereira F', 'Chung JY'],\n",
       "  '2025',\n",
       "  'Nature. Mental health',\n",
       "  '10.1038/s44220-024-00371-6'),\n",
       " '40132641': ('MFSD6 is an entry receptor for enterovirus D68.',\n",
       "  ['Varanese L', 'Xu L', 'Peters CE', 'Pintilie G', 'Roberts DS', 'Raj S', 'Liu M', 'Ooi YS', 'Diep J', 'Qiao W', 'Richards CM', 'Callaway J', 'Bertozzi CR', 'Jabs S', 'de Vries E', 'van Kuppeveld FJM', 'Nagamine CM', 'Chiu W', 'Carette JE'],\n",
       "  '2025',\n",
       "  'Nature',\n",
       "  '10.1038/s41586-025-08908-0'),\n",
       " '40033147': ('Tracking gulls to prevent a bird flu pandemic.',\n",
       "  ['Lizak M'],\n",
       "  '2025',\n",
       "  'Nature',\n",
       "  '10.1038/d41586-025-00623-0'),\n",
       " '39984686': ('What sparked the COVID pandemic? Mounting evidence points to raccoon dogs.',\n",
       "  ['Mallapaty S'],\n",
       "  '2025',\n",
       "  'Nature',\n",
       "  '10.1038/d41586-025-00426-3'),\n",
       " '39966582': (\"Learn COVID pandemic lessons - before it's too late.\",\n",
       "  [],\n",
       "  '2025',\n",
       "  'Nature',\n",
       "  '10.1038/d41586-025-00498-1'),\n",
       " '39880955': ('SARS-CoV-2 evolution on a dynamic immune landscape.',\n",
       "  ['Raharinirina NA', 'Gubela N', 'Börnigen D', 'Smith MR', 'Oh DY', 'Budt M', 'Mache C', 'Schillings C', 'Fuchs S', 'Dürrwald R', 'Wolff T', 'Hölzer M', 'Paraskevopoulou S', 'von Kleist M'],\n",
       "  '2025',\n",
       "  'Nature',\n",
       "  '10.1038/s41586-024-08477-8')}"
      ]
     },
     "execution_count": 29,
     "metadata": {},
     "output_type": "execute_result"
    }
   ],
   "source": [
    "CA_summ = {\n",
    "    p['Id'] : ( p['Title'], p['AuthorList'], p['PubDate'][:4], p['FullJournalName'], p.get('DOI', '') )\n",
    "    for p in Entrez.read( Entrez.esummary(db=\"pubmed\", id=','.join( CA_ids )) )\n",
    "    }\n",
    "CA_summ"
   ]
  },
  {
   "cell_type": "markdown",
   "metadata": {},
   "source": [
    "Because we restricted our search to papers in an open-access journal, you can then follow their DOIs to freely access their PDFs at the journal's website."
   ]
  },
  {
   "cell_type": "markdown",
   "metadata": {},
   "source": [
    "We will now issue calls to `Entrez.elink()` using these PubMed IDs, to retrieve the IDs of papers that cite them.\n",
    "The database from which the IDs will be retrieved is [PubMed Central](http://www.ncbi.nlm.nih.gov/pmc/), a free digital database of full-text scientific literature in the biomedical and life sciences.\n",
    "\n",
    "A complete list of the kinds of links you can retrieve with `Entrez.elink()` can be found [here](http://eutils.ncbi.nlm.nih.gov/entrez/query/static/entrezlinks.html)."
   ]
  },
  {
   "cell_type": "code",
   "execution_count": 48,
   "metadata": {
    "tags": []
   },
   "outputs": [
    {
     "data": {
      "text/plain": [
       "['12304356']"
      ]
     },
     "execution_count": 48,
     "metadata": {},
     "output_type": "execute_result"
    }
   ],
   "source": [
    "pmid = \"40301615\"\n",
    "\n",
    "results = Entrez.read(\n",
    "\n",
    "    Entrez.elink(dbfrom=\"pubmed\", db=\"pmc\", LinkName=\"pubmed_pmc_refs\", id=pmid)\n",
    "\n",
    ")\n",
    "\n",
    "pmc_ids = [link[\"Id\"] for link in results[0][\"LinkSetDb\"][0][\"Link\"]]\n",
    "\n",
    "pmc_ids"
   ]
  },
  {
   "cell_type": "code",
   "execution_count": 49,
   "metadata": {
    "tags": []
   },
   "outputs": [],
   "source": [
    "Entrez.email = \"r.m.siebes@vu.nl\"\n",
    "CA_citing = {\n",
    "    id : Entrez.read( Entrez.elink(\n",
    "            cmd = \"neighbor\",               # ELink command mode: \"neighbor\", returns\n",
    "                                            #     a set of UIDs in `db` linked to the input UIDs in `dbfrom`.\n",
    "            dbfrom = \"pubmed\",              # Database containing the input UIDs: PubMed\n",
    "            db = \"pmc\",                     # Database from which to retrieve UIDs: PubMed Central\n",
    "            LinkName = \"pubmed_pmc_refs\",   # Name of the Entrez link to retrieve: \"pubmed_pmc_refs\", gets\n",
    "                                            #     \"Full-text articles in the PubMed Central Database that cite the current articles\"\n",
    "            from_uid = id                   # input UIDs\n",
    "            ) )\n",
    "    for id in CA_ids\n",
    "    }\n",
    "\n",
    "\n"
   ]
  },
  {
   "cell_type": "code",
   "execution_count": 50,
   "metadata": {
    "tags": []
   },
   "outputs": [
    {
     "data": {
      "text/plain": [
       "[{'LinkSetDb': [{'Link': [{'Id': '12304356'}], 'DbTo': 'pmc', 'LinkName': 'pubmed_pmc_refs'}], 'ERROR': [], 'LinkSetDbHistory': [], 'DbFrom': 'pubmed', 'IdList': ['40301615']}]"
      ]
     },
     "execution_count": 50,
     "metadata": {},
     "output_type": "execute_result"
    }
   ],
   "source": [
    "CA_citing['40301615']"
   ]
  },
  {
   "cell_type": "markdown",
   "metadata": {},
   "source": [
    "We have in `CA_citing[paper_id][0]['LinkSetDb'][0]['Link']` the list of papers citing `paper_id`. To get it as just a list of ids, we can do"
   ]
  },
  {
   "cell_type": "code",
   "execution_count": 51,
   "metadata": {
    "tags": []
   },
   "outputs": [
    {
     "data": {
      "text/plain": [
       "['12304356']"
      ]
     },
     "execution_count": 51,
     "metadata": {},
     "output_type": "execute_result"
    }
   ],
   "source": [
    "cits = [ l['Id'] for l in CA_citing['40301615'][0]['LinkSetDb'][0]['Link'] ]\n",
    "cits"
   ]
  },
  {
   "cell_type": "markdown",
   "metadata": {},
   "source": [
    "However, one more step is needed, as what we have now are PubMed Central IDs, and not PubMed IDs. Their conversion can be achieved through an additional call to `Entrez.elink()`:"
   ]
  },
  {
   "cell_type": "code",
   "execution_count": 52,
   "metadata": {
    "tags": []
   },
   "outputs": [
    {
     "data": {
      "text/plain": [
       "[{'LinkSetDb': [{'Link': [{'Id': '40741302'}], 'DbTo': 'pubmed', 'LinkName': 'pmc_pubmed'}], 'ERROR': [], 'LinkSetDbHistory': [], 'DbFrom': 'pmc', 'IdList': ['12304356']}]"
      ]
     },
     "execution_count": 52,
     "metadata": {},
     "output_type": "execute_result"
    }
   ],
   "source": [
    "cits_pm = Entrez.read( Entrez.elink( dbfrom=\"pmc\", db=\"pubmed\", LinkName=\"pmc_pubmed\", from_uid=\",\".join(cits)) )\n",
    "cits_pm"
   ]
  },
  {
   "cell_type": "code",
   "execution_count": 53,
   "metadata": {
    "tags": []
   },
   "outputs": [
    {
     "data": {
      "text/plain": [
       "{'12304356': '40741302'}"
      ]
     },
     "execution_count": 53,
     "metadata": {},
     "output_type": "execute_result"
    }
   ],
   "source": [
    "ids_map = { pmc_id : link['Id'] for (pmc_id,link) in zip(cits_pm[0]['IdList'], cits_pm[0]['LinkSetDb'][0]['Link']) }\n",
    "ids_map"
   ]
  },
  {
   "cell_type": "markdown",
   "metadata": {},
   "source": [
    "And to check these papers:"
   ]
  },
  {
   "cell_type": "code",
   "execution_count": 54,
   "metadata": {
    "tags": []
   },
   "outputs": [
    {
     "data": {
      "text/plain": [
       "{'40741302': (\"The WHO Pandemic Agreement's Missing Epistemic Architectures: Infodemics and Antimicrobial Resistance as Examples.\",\n",
       "  ['Ho CWL', 'Caals K'],\n",
       "  '2025',\n",
       "  'Asian bioethics review',\n",
       "  '10.1007/s41649-025-00387-9')}"
      ]
     },
     "execution_count": 54,
     "metadata": {},
     "output_type": "execute_result"
    }
   ],
   "source": [
    "{   p['Id'] : ( p['Title'], p['AuthorList'], p['PubDate'][:4], p['FullJournalName'], p.get('DOI', '') )\n",
    "    for p in Entrez.read( Entrez.esummary(db=\"pubmed\", id=','.join( ids_map.values() )) )\n",
    "    }"
   ]
  },
  {
   "cell_type": "markdown",
   "metadata": {},
   "source": [
    "### Citations dataset"
   ]
  },
  {
   "cell_type": "markdown",
   "metadata": {},
   "source": [
    "We have now seen all the steps required to assemble a dataset of citations to each of the papers in our dataset."
   ]
  },
  {
   "cell_type": "code",
   "execution_count": 55,
   "metadata": {
    "tags": []
   },
   "outputs": [],
   "source": [
    "Citations_file = 'data/' + search_term + '_Citations.pkl.bz2'\n",
    "Citations = []"
   ]
  },
  {
   "cell_type": "markdown",
   "metadata": {},
   "source": [
    "At least one server query will be issued per paper in `Ids`. Because NCBI allows for at most 3 queries per second (see [here](http://biopython.org/DIST/docs/api/Bio.Entrez-pysrc.html#_open)), this dataset will take a long time to assemble. Should you need to interrupt it for some reason, or the connection fail at some point, it is safe to just rerun the cell below until all data is collected."
   ]
  },
  {
   "cell_type": "code",
   "execution_count": null,
   "metadata": {
    "tags": []
   },
   "outputs": [
    {
     "name": "stdout",
     "output_type": "stream",
     "text": [
      "........\tsaving at checkpoint 20097\n",
      "........\tsaving at checkpoint 20174\n",
      "........\tsaving at checkpoint 20251\n",
      ".......\tsaving at checkpoint 20328\n",
      "........\tsaving at checkpoint 20405\n",
      "........\tsaving at checkpoint 20482\n",
      ".......\tsaving at checkpoint 20559\n",
      "........\tsaving at checkpoint 20636\n",
      "........\tsaving at checkpoint 20713\n"
     ]
    }
   ],
   "source": [
    "import http.client\n",
    "from urllib.error import HTTPError\n",
    "\n",
    "if Citations == [] and os.path.exists( Citations_file ):\n",
    "    Citations = pickle.load( bz2.BZ2File( Citations_file, 'rb' ) )\n",
    "\n",
    "if len(Citations) < len(Ids):\n",
    "    \n",
    "    i = len(Citations)\n",
    "    checkpoint = int(len(Ids) / 1000) + 1      # save to hard drive at every 0.1% of Ids fetched\n",
    "    \n",
    "    for pm_id in Ids[i:]:               # either starts from index 0, or resumes from where we previously left off\n",
    "        \n",
    "        while True:\n",
    "            try:\n",
    "                # query for papers archived in PubMed Central that cite the paper with PubMed ID `pm_id`\n",
    "                c = Entrez.read( Entrez.elink( dbfrom = \"pubmed\", db=\"pmc\", LinkName = \"pubmed_pmc_refs\", id=str(pm_id) ) )\n",
    "                \n",
    "                c = c[0]['LinkSetDb']\n",
    "                if len(c) == 0:\n",
    "                    # no citations found for the current paper\n",
    "                    c = []\n",
    "                    #print(\"no links for\",pm_id)\n",
    "                else:\n",
    "                    c = [ l['Id'] for l in c[0]['Link'] ]\n",
    "                    \n",
    "                    # convert citations from PubMed Central IDs to PubMed IDs\n",
    "                    p = []\n",
    "                    retrieve_per_query = 100\n",
    "                    for start in range( 0, len(c), retrieve_per_query ):\n",
    "                        query_ids = ','.join( c[start : start+retrieve_per_query] )\n",
    "                        r = Entrez.read( Entrez.elink( dbfrom=\"pmc\", db=\"pubmed\", LinkName=\"pmc_pubmed\", from_uid=query_ids ) )\n",
    "                        # select the IDs. If no matching PubMed ID was found, [] is returned instead\n",
    "                        p.extend( [] if r[0]['LinkSetDb']==[] else [ int(link['Id']) for link in r[0]['LinkSetDb'][0]['Link'] ] )\n",
    "                    c = p\n",
    "            \n",
    "            except http.client.BadStatusLine:\n",
    "                # Presumably, the server closed the connection before sending a valid response. Retry until we have the data.\n",
    "                print('r')\n",
    "                continue\n",
    "            except http.client.IncompleteRead:\n",
    "                print('incompleteRead, continuing')\n",
    "                continue\n",
    "            except HTTPError:\n",
    "                print('r')\n",
    "                continue\n",
    "            break\n",
    "        \n",
    "        Citations.append( (pm_id, c) )\n",
    "       # print(pm_id,' :',c)\n",
    "        if (i % 1000 == 0):\n",
    "            print('')\n",
    "            print(i, end='')\n",
    "        if (i % 10 == 0):\n",
    "            print('.', end='')\n",
    "        i += 1\n",
    "        \n",
    "        if i % checkpoint == 0:\n",
    "            print('\\tsaving at checkpoint', i)\n",
    "            pickle.dump( Citations, bz2.BZ2File( Citations_file, 'wb' ) )\n",
    "    \n",
    "    print('\\n done.')\n",
    "    \n",
    "    # Save Citations, as a dictionary indexed by Ids\n",
    "    Citations = dict( Citations )\n",
    "    \n",
    "    pickle.dump( Citations, bz2.BZ2File( Citations_file, 'wb' ) )"
   ]
  },
  {
   "cell_type": "markdown",
   "metadata": {},
   "source": [
    "To see that we have indeed obtained the data we expected, you can match the ids below, with the ids listed at the end of last section."
   ]
  },
  {
   "cell_type": "code",
   "execution_count": null,
   "metadata": {},
   "outputs": [],
   "source": [
    "print(len(Citations))\n",
    "Citations[84842]\n",
    "Summaries[10576728]\n"
   ]
  },
  {
   "cell_type": "markdown",
   "metadata": {},
   "source": [
    "## Where do we go from here?"
   ]
  },
  {
   "cell_type": "markdown",
   "metadata": {},
   "source": [
    "Running the code above generates multiple local files, containing the datasets we'll be working with. Loading them into memory is a matter of just issuing a call like<br>\n",
    "``data = pickle.load( bz2.BZ2File( data_file, 'rb' ) )``.\n",
    "\n",
    "The Entrez module will therefore no longer be needed, unless you wish to extend your data processing with additional information retrieved from PubMed.\n",
    "\n",
    "Should you be interested in looking at alternative ways to handle the data, have a look at the [sqlite3](http://docs.python.org/3/library/sqlite3.html) module included in Python's standard library, or [Pandas](http://pandas.pydata.org/), the Python Data Analysis Library."
   ]
  }
 ],
 "metadata": {
  "kernelspec": {
   "display_name": "Python 3 (ipykernel)",
   "language": "python",
   "name": "python3"
  },
  "language_info": {
   "codemirror_mode": {
    "name": "ipython",
    "version": 3
   },
   "file_extension": ".py",
   "mimetype": "text/x-python",
   "name": "python",
   "nbconvert_exporter": "python",
   "pygments_lexer": "ipython3",
   "version": "3.8.10"
  }
 },
 "nbformat": 4,
 "nbformat_minor": 4
}
